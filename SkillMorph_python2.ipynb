{
  "nbformat": 4,
  "nbformat_minor": 0,
  "metadata": {
    "colab": {
      "provenance": [],
      "include_colab_link": true
    },
    "kernelspec": {
      "name": "python3",
      "display_name": "Python 3"
    },
    "language_info": {
      "name": "python"
    }
  },
  "cells": [
    {
      "cell_type": "markdown",
      "metadata": {
        "id": "view-in-github",
        "colab_type": "text"
      },
      "source": [
        "<a href=\"https://colab.research.google.com/github/Aksaiful007/Skill-Morph/blob/main/SkillMorph_python2.ipynb\" target=\"_parent\"><img src=\"https://colab.research.google.com/assets/colab-badge.svg\" alt=\"Open In Colab\"/></a>"
      ]
    },
    {
      "cell_type": "markdown",
      "source": [
        "# **Introduction**"
      ],
      "metadata": {
        "id": "W_QAF1pXTYGD"
      }
    },
    {
      "cell_type": "code",
      "source": [
        "print(\"hello world\")"
      ],
      "metadata": {
        "colab": {
          "base_uri": "https://localhost:8080/"
        },
        "id": "LxCwn6LRThbx",
        "outputId": "e81eb89d-05a3-48ad-99a9-2d26dfd40553"
      },
      "execution_count": null,
      "outputs": [
        {
          "output_type": "stream",
          "name": "stdout",
          "text": [
            "hello world\n"
          ]
        }
      ]
    },
    {
      "cell_type": "markdown",
      "source": [
        "# 2.1 Creating variables## **Variable**"
      ],
      "metadata": {
        "id": "TTZyaE8GT7fK"
      }
    },
    {
      "cell_type": "code",
      "source": [
        "\n",
        "name = \"Ali Kaisar Saiful\"\n",
        "age = 20\n",
        "is_student = True\n",
        "height = 5.9\n",
        "# Printing variables\n",
        "print(\"Name:\", name)\n",
        "print(\"Age:\", age)\n",
        "print(\"Student status:\", is_student)\n",
        "print(\"Height:\", height, \"feet\")"
      ],
      "metadata": {
        "colab": {
          "base_uri": "https://localhost:8080/"
        },
        "id": "CaR4RWa3UAPn",
        "outputId": "d27007fe-bc5b-452f-fc29-0bed57e5819b"
      },
      "execution_count": null,
      "outputs": [
        {
          "output_type": "stream",
          "name": "stdout",
          "text": [
            "Name: Ali Kaisar Saiful\n",
            "Age: 20\n",
            "Student status: True\n",
            "Height: 5.9 feet\n"
          ]
        }
      ]
    },
    {
      "cell_type": "markdown",
      "source": [
        "#2.2 checking data **types**"
      ],
      "metadata": {
        "id": "M5cCN3ZjLjDL"
      }
    },
    {
      "cell_type": "code",
      "source": [
        "\n",
        "name = \"Ali Kaisar Saiful\"\n",
        "address = 'Dhaka'\n",
        "age = 20\n",
        "price = 100000000000\n",
        "is_valid = True\n",
        "has_paid = False\n",
        "result = None\n",
        "print(type(name))\n",
        "print(type(age))\n",
        "print(type(price))\n",
        "print(type(is_valid))"
      ],
      "metadata": {
        "colab": {
          "base_uri": "https://localhost:8080/"
        },
        "id": "vyZ0jc1hUw8f",
        "outputId": "cce47f90-b35c-404c-d2f7-b0bfeb61127c"
      },
      "execution_count": 47,
      "outputs": [
        {
          "output_type": "stream",
          "name": "stdout",
          "text": [
            "<class 'str'>\n",
            "<class 'int'>\n",
            "<class 'int'>\n",
            "<class 'bool'>\n"
          ]
        }
      ]
    },
    {
      "cell_type": "code",
      "source": [
        "import math\n",
        "a = 52\n",
        "b = 7\n",
        "num = 5.3\n",
        "floored = math.floor(num)\n",
        "ceilled = math.ceil(num)\n",
        "\n",
        "length = 7\n",
        "width = 5\n",
        "area = length * width\n",
        "print(f\"The area of the rectangle is {area}\")\n",
        "perimeter = 2 * (length + width)\n",
        "print(f\"The perimeter of the rectangle is {perimeter}\")\n",
        "print(floored) #floor number of num\n",
        "print(ceilled) #celling number of num\n",
        "print(a + b)  # Addition: 13\n",
        "print(a - b)  # Subtraction: 7\n",
        "print(a * b)  # Multiplication: 30\n",
        "print(a / b)  # Division: 3.333...\n",
        "print(a // b) # Floor division: 3\n",
        "print(a % b)  # Modulus (remainder): 1\n",
        "print(a ** b) # Exponentiation: 1000"
      ],
      "metadata": {
        "colab": {
          "base_uri": "https://localhost:8080/"
        },
        "id": "z9tYpKVRHtjD",
        "outputId": "30d10247-2100-422a-c2a4-ec64c3f3d7de"
      },
      "execution_count": 2,
      "outputs": [
        {
          "output_type": "stream",
          "name": "stdout",
          "text": [
            "The area of the rectangle is 35\n",
            "The perimeter of the rectangle is 24\n",
            "5\n",
            "6\n",
            "59\n",
            "45\n",
            "364\n",
            "7.428571428571429\n",
            "7\n",
            "3\n",
            "1028071702528\n"
          ]
        }
      ]
    },
    {
      "cell_type": "markdown",
      "source": [
        "#2.3 Calculate the area and perimeter of a rectangle with length 7 and width 5\n"
      ],
      "metadata": {
        "id": "HdNyNCCoK9G-"
      }
    },
    {
      "cell_type": "code",
      "source": [
        "length = 7\n",
        "width = 5\n",
        "area = length * width\n",
        "print(f\"The area of the rectangle is {area}\")\n",
        "perimeter = 2 * (length + width)\n",
        "print(f\"The perimeter of the rectangle is {perimeter}\")"
      ],
      "metadata": {
        "colab": {
          "base_uri": "https://localhost:8080/"
        },
        "id": "NGOETO7jK3lO",
        "outputId": "09ecffc7-3dde-477d-9c52-306c7d24d3c4"
      },
      "execution_count": 46,
      "outputs": [
        {
          "output_type": "stream",
          "name": "stdout",
          "text": [
            "The area of the rectangle is 35\n",
            "The perimeter of the rectangle is 24\n"
          ]
        }
      ]
    },
    {
      "cell_type": "code",
      "source": [
        "first = \"Dear\"\n",
        "last = \"Samiul Sir\"\n",
        "# Concatenation\n",
        "full = first + \" \" + last\n",
        "print(full)  # Hello World\n",
        "# Repetition\n",
        "repeated = first * 3\n",
        "print(repeated)  # HelloHelloHello#\n",
        "#Length\n",
        "print(len(full))  # 11"
      ],
      "metadata": {
        "colab": {
          "base_uri": "https://localhost:8080/"
        },
        "id": "tf1TnrgaIA2t",
        "outputId": "a97e3e3c-1411-4253-b11e-47a82f8ce8f0"
      },
      "execution_count": null,
      "outputs": [
        {
          "output_type": "stream",
          "name": "stdout",
          "text": [
            "Dear Samiul Sir\n",
            "DearDearDear\n",
            "15\n"
          ]
        }
      ]
    },
    {
      "cell_type": "markdown",
      "source": [
        "## **Data Structure**"
      ],
      "metadata": {
        "id": "vq2YKKy-Jry0"
      }
    },
    {
      "cell_type": "code",
      "source": [
        "# Creating a list\n",
        "fruits = [\"apple\", \"banana\", \"orange\", \"mango\", \"graph\"]\n",
        "# Accessing elements (indexing starts at 0)\n",
        "print(fruits[0])       # apple\n",
        "print(fruits[2])       # orange\n",
        "# Negative indexing (counts from the end)\n",
        "print(fruits[-2])      # mango\n",
        "# Slicing lists\n",
        "print(fruits[1:4])     # ['banana', 'orange’]\n",
        "# Changing an element\n",
        "fruits[1] = \"grape\"\n",
        "print(fruits)          # ['apple', 'grape', 'orange', 'mango']"
      ],
      "metadata": {
        "colab": {
          "base_uri": "https://localhost:8080/"
        },
        "id": "scUfbWiIJvz_",
        "outputId": "2e2e3033-59cc-41e1-c398-0f97690b1e29"
      },
      "execution_count": null,
      "outputs": [
        {
          "output_type": "stream",
          "name": "stdout",
          "text": [
            "apple\n",
            "orange\n",
            "mango\n",
            "['banana', 'orange', 'mango']\n",
            "['apple', 'grape', 'orange', 'mango', 'graph']\n"
          ]
        }
      ]
    },
    {
      "cell_type": "markdown",
      "source": [
        "#creating list 2.4"
      ],
      "metadata": {
        "id": "S5GwRySKLvQI"
      }
    },
    {
      "cell_type": "code",
      "source": [
        "\n",
        "foods = [\"rice\", \"lentil\", \"egg\", \"fish\", \"beef\"]\n",
        "print(f\"The first element of the list is: {foods[0]}\")\n",
        "print(f\"The second element of the list is: {foods[-1]}\")\n"
      ],
      "metadata": {
        "colab": {
          "base_uri": "https://localhost:8080/"
        },
        "id": "228j70hPtTOF",
        "outputId": "c6a50c69-4880-4649-e295-504c252e2acc"
      },
      "execution_count": 6,
      "outputs": [
        {
          "output_type": "stream",
          "name": "stdout",
          "text": [
            "The first element of the list is: rice\n",
            "The second element of the list is: beef\n"
          ]
        }
      ]
    },
    {
      "cell_type": "code",
      "source": [
        "#Adding Elements in List\n",
        "fruits = [\"apple\", \"banana\"]\n",
        "fruits.append(\"lichu\")    # Add to end\n",
        "fruits.insert(2, \"mango\")  # Insert at position\n",
        "print(fruits)  # ['apple', 'mango', 'banana', 'orange']"
      ],
      "metadata": {
        "colab": {
          "base_uri": "https://localhost:8080/"
        },
        "id": "yDqL7OfJLb8v",
        "outputId": "759af274-b88a-4795-c822-15eb19fe040b"
      },
      "execution_count": null,
      "outputs": [
        {
          "output_type": "stream",
          "name": "stdout",
          "text": [
            "['apple', 'banana', 'mango', 'lichu']\n"
          ]
        }
      ]
    },
    {
      "cell_type": "code",
      "source": [
        "#Removing Elements in List\n",
        "fruits = [\"apple\", \"mango\", \"banana\", \"orange\"]\n",
        "fruits.remove(\"mango\")    # Remove by value\n",
        "popped = fruits.pop(-2)    # Remove & return last item\n",
        "print(popped) # orange\n",
        "print(fruits) # ['apple', 'banana']"
      ],
      "metadata": {
        "colab": {
          "base_uri": "https://localhost:8080/"
        },
        "id": "7HuHLSRgMB99",
        "outputId": "7d505c37-a11d-4e38-8a39-3e2e9f0ac044"
      },
      "execution_count": null,
      "outputs": [
        {
          "output_type": "stream",
          "name": "stdout",
          "text": [
            "banana\n",
            "['apple', 'orange']\n"
          ]
        }
      ]
    },
    {
      "cell_type": "code",
      "source": [
        "#organinzing list\n",
        "fruits = [\"orange\", \"apple\", \"mango\", \"banana\"]\n",
        "fruits.sort() # Alphabetical order\n",
        "print(fruits) # ['apple', 'banana', 'mango', 'orange’]\n",
        "fruits.reverse() # Reverse order\n",
        "print(fruits) # ['orange', 'mango', 'banana', 'apple']"
      ],
      "metadata": {
        "colab": {
          "base_uri": "https://localhost:8080/"
        },
        "id": "bd_F1ZQfM6-i",
        "outputId": "f3d8820f-8b4f-40b4-a595-1237081432ed"
      },
      "execution_count": null,
      "outputs": [
        {
          "output_type": "stream",
          "name": "stdout",
          "text": [
            "['apple', 'banana', 'mango', 'orange']\n",
            "['orange', 'mango', 'banana', 'apple']\n"
          ]
        }
      ]
    },
    {
      "cell_type": "markdown",
      "source": [
        "2.5 Adding and removing elements"
      ],
      "metadata": {
        "id": "5MBltp6wL3R_"
      }
    },
    {
      "cell_type": "code",
      "source": [
        "\n",
        "num_list = [5, 4, 1, 7, 11]\n",
        "#adding new number\n",
        "num_list.insert(1, 3)\n",
        "print(num_list)\n",
        "#removing a number:\n",
        "num_list.remove(4)\n",
        "print(num_list)\n",
        "#shorting list\n",
        "sorted = num_list.sort()\n",
        "print(num_list)"
      ],
      "metadata": {
        "colab": {
          "base_uri": "https://localhost:8080/"
        },
        "id": "wPVQLi42urHL",
        "outputId": "172b34f3-41fa-483a-8ecb-a268120a34f5"
      },
      "execution_count": 48,
      "outputs": [
        {
          "output_type": "stream",
          "name": "stdout",
          "text": [
            "[5, 3, 4, 1, 7, 11]\n",
            "[5, 3, 1, 7, 11]\n",
            "[1, 3, 5, 7, 11]\n"
          ]
        }
      ]
    },
    {
      "cell_type": "markdown",
      "source": [
        "# Creating a dictionary 2.6"
      ],
      "metadata": {
        "id": "hNeQORSMMHEx"
      }
    },
    {
      "cell_type": "code",
      "source": [
        "\n",
        "student = {\n",
        "\"name\": \"Ali Kaisar Saiful\",\n",
        "\"age\": 20,\n",
        "\"university\": \"State University of Bangladesh\",\n",
        "\"courses\": [\"Python\", \"Data Science\", \"Machine Learning\"]}\n",
        "# Accessing values using keys\n",
        "print(student[\"name\"])      # Fahim\n",
        "print(student[\"courses\"][0])  # Python\n",
        "# Adding or modifying items\n",
        "student[\"phone\"] = \"01234567899\"\n",
        "student[\"age\"] = 20\n",
        "student[\"email\"] = \"abc@gmail.com\"\n",
        "# Checking if a key exists\n",
        "if \"email\" in student:\n",
        "  print(\"Email found\")\n",
        "else:\n",
        "  print(\"No email found\")   # No email found"
      ],
      "metadata": {
        "colab": {
          "base_uri": "https://localhost:8080/"
        },
        "id": "Oezdj9SpNcyw",
        "outputId": "612cb8bf-1439-41c7-e5e0-fcbc08a67e0f"
      },
      "execution_count": 49,
      "outputs": [
        {
          "output_type": "stream",
          "name": "stdout",
          "text": [
            "Ali Kaisar Saiful\n",
            "Python\n",
            "Email found\n"
          ]
        }
      ]
    },
    {
      "cell_type": "code",
      "source": [
        "# Creating a tuple\n",
        "coordinates = (10.5, 20.8)\n",
        "rgb_color = (255, 0, 128)\n",
        "# Accessing elements\n",
        "print(coordinates[0])    # 10.5\n",
        "print(rgb_color[2])      # 128\n",
        "# Attempting to change (will cause error)\n",
        "# rgb_color[0] = 200  # TypeError!\n",
        "# Length of tuple\n",
        "print(len(rgb_color))    # 3"
      ],
      "metadata": {
        "colab": {
          "base_uri": "https://localhost:8080/"
        },
        "id": "dSz8bUQ4N6ZK",
        "outputId": "fa41e8ab-4a11-405e-c9b6-35119092b720"
      },
      "execution_count": null,
      "outputs": [
        {
          "output_type": "stream",
          "name": "stdout",
          "text": [
            "10.5\n",
            "128\n",
            "3\n"
          ]
        }
      ]
    },
    {
      "cell_type": "markdown",
      "source": [
        "#2.7 Lantitude and Lonitude:"
      ],
      "metadata": {
        "id": "nVdwxs64MPdR"
      }
    },
    {
      "cell_type": "code",
      "source": [
        "\n",
        "coordinates = (23.75166, 90.36758)\n",
        "print(f\"The first coordinate is: {coordinates[0]}\")\n",
        "print(f\"The second coordinate is: {coordinates[1]}\")"
      ],
      "metadata": {
        "colab": {
          "base_uri": "https://localhost:8080/"
        },
        "id": "SO4W9MnGxQQe",
        "outputId": "effae659-6d6d-4b5d-bf82-7b49850fbc97"
      },
      "execution_count": 50,
      "outputs": [
        {
          "output_type": "stream",
          "name": "stdout",
          "text": [
            "The first coordinate is: 23.75166\n",
            "The second coordinate is: 90.36758\n"
          ]
        }
      ]
    },
    {
      "cell_type": "code",
      "source": [
        "# Tuple with different data types\n",
        "mixed = (\"Dhaka\", 23.8, True, 2023)\n",
        "# Single-item tuple needs a comma\n",
        "single = (42,)  # Without comma: just an int\n",
        "print(mixed)\n",
        "print(single)"
      ],
      "metadata": {
        "colab": {
          "base_uri": "https://localhost:8080/"
        },
        "id": "jpFbpxSUP3EO",
        "outputId": "0974807b-b60c-433f-b703-88b41091049c"
      },
      "execution_count": null,
      "outputs": [
        {
          "output_type": "stream",
          "name": "stdout",
          "text": [
            "('Dhaka', 23.8, True, 2023)\n",
            "(42,)\n"
          ]
        }
      ]
    },
    {
      "cell_type": "code",
      "source": [
        "# Creating a set\n",
        "fruits = {\"apple\", \"banana\", \"orange\", \"apple\"}\n",
        "print(fruits)  # {'orange', 'banana', 'apple'} (no duplicates)\n",
        "# Adding elements\n",
        "fruits.add(\"mango\")\n",
        "fruits.update([\"grape\", \"kiwi\"])\n",
        "# Removing elements\n",
        "fruits.remove(\"banana\")  # Raises error if not found\n",
        "fruits.discard(\"pear\")\n",
        "# Set operations\n",
        "bangladeshi_fruits = {\"mango\", \"jackfruit\", \"banana\"}\n",
        "imported_fruits = {\"apple\", \"kiwi\", \"banana\"}\n",
        "# Union (all elements from both sets)\n",
        "all_fruits = bangladeshi_fruits | imported_fruits\n",
        "print(all_fruits)\n",
        "# Intersection (common elements)\n",
        "common = bangladeshi_fruits & imported_fruits  # {'banana'}\n",
        "print(common)"
      ],
      "metadata": {
        "colab": {
          "base_uri": "https://localhost:8080/"
        },
        "id": "WBLwxw20Qa0I",
        "outputId": "76c9c1b6-503a-4f86-a6e1-6b816d7067a5"
      },
      "execution_count": null,
      "outputs": [
        {
          "output_type": "stream",
          "name": "stdout",
          "text": [
            "{'orange', 'banana', 'apple'}\n",
            "{'banana', 'kiwi', 'mango', 'jackfruit', 'apple'}\n",
            "{'banana'}\n"
          ]
        }
      ]
    },
    {
      "cell_type": "markdown",
      "source": [
        "#2.8 Union AND  Intersection of sets\n"
      ],
      "metadata": {
        "id": "IeWWaSk_MWwy"
      }
    },
    {
      "cell_type": "code",
      "source": [
        "\n",
        "clrset1 = {\"reed\", \"yellow\", \"blue\"}\n",
        "clrset2 = {\"green\", \"orange\", \"blue\"}\n",
        "#intersection of sets\n",
        "common = clrset1 & clrset2\n",
        "print(common)\n",
        "#UNION of sets\n",
        "union = clrset1 | clrset2\n",
        "print(union)\n"
      ],
      "metadata": {
        "colab": {
          "base_uri": "https://localhost:8080/"
        },
        "id": "dBe56xc4837O",
        "outputId": "2de7fe85-24ec-4069-d18d-cdb1cd7c5cb5"
      },
      "execution_count": 51,
      "outputs": [
        {
          "output_type": "stream",
          "name": "stdout",
          "text": [
            "{'blue'}\n",
            "{'green', 'blue', 'orange', 'yellow', 'reed'}\n"
          ]
        }
      ]
    },
    {
      "cell_type": "markdown",
      "source": [
        "## **Conditional**"
      ],
      "metadata": {
        "id": "WyPxn3niT-lj"
      }
    },
    {
      "cell_type": "code",
      "source": [
        "# Basic if-else\n",
        "age = 19\n",
        "if age >= 18:\n",
        "  print(\"You are an adult\")\n",
        "else:\n",
        "  print(\"You are a minor\")\n",
        "\n",
        "# if-elif-else (multiple conditions)\n",
        "score = 85\n",
        "if score >= 90:\n",
        "  grade = \"A+\"\n",
        "elif score >= 80:\n",
        "  grade = \"A\"\n",
        "elif score >= 70:\n",
        "  grade = \"B\"\n",
        "elif score >= 60:\n",
        "  grade = \"C\"\n",
        "else:\n",
        "  grade = \"F\"\n",
        "print(f\"Your grade is {grade}\")  # Your grade is A"
      ],
      "metadata": {
        "colab": {
          "base_uri": "https://localhost:8080/"
        },
        "id": "T-AW8CYxR2gf",
        "outputId": "153f7f40-fa06-4ba3-dd1b-ef04a41e5484"
      },
      "execution_count": null,
      "outputs": [
        {
          "output_type": "stream",
          "name": "stdout",
          "text": [
            "You are an adult\n",
            "Your grade is A\n"
          ]
        }
      ]
    },
    {
      "cell_type": "markdown",
      "source": [
        "#number checking 2.9"
      ],
      "metadata": {
        "id": "boarAbzbMmbR"
      }
    },
    {
      "cell_type": "code",
      "source": [
        "\n",
        "n = int(input())\n",
        "if n > 0:\n",
        "  print(\"Positive\")\n",
        "elif n < 0:\n",
        "  print(\"Negative\")\n",
        "else:\n",
        "  print(\"Zero\")"
      ],
      "metadata": {
        "colab": {
          "base_uri": "https://localhost:8080/"
        },
        "id": "jzM0Tipb_F_9",
        "outputId": "8c342ff5-e46a-4964-a595-3b755524d26f"
      },
      "execution_count": 52,
      "outputs": [
        {
          "output_type": "stream",
          "name": "stdout",
          "text": [
            "2\n",
            "Positive\n"
          ]
        }
      ]
    },
    {
      "cell_type": "markdown",
      "source": [
        "#Discount check 2.10"
      ],
      "metadata": {
        "id": "N403ekhMMr6r"
      }
    },
    {
      "cell_type": "code",
      "source": [
        "\n",
        "age = int(input())\n",
        "profession = input()\n",
        "if age < 25 and profession == \"student\":\n",
        "  print(\"You are eligible for a discount\")\n",
        "elif age < 60:\n",
        "  print(\"You are eligible for a discount\")\n",
        "else:\n",
        "  print(\"You are not eligible for a discount\")"
      ],
      "metadata": {
        "colab": {
          "base_uri": "https://localhost:8080/"
        },
        "id": "dwkLlr7T_kAh",
        "outputId": "c1d65c8d-8174-42ff-b5b5-56fafc1936e2"
      },
      "execution_count": 53,
      "outputs": [
        {
          "output_type": "stream",
          "name": "stdout",
          "text": [
            "23\n",
            "student\n",
            "You are eligible for a discount\n"
          ]
        }
      ]
    },
    {
      "cell_type": "code",
      "source": [],
      "metadata": {
        "id": "SFrYy6RQDMjJ"
      },
      "execution_count": null,
      "outputs": []
    },
    {
      "cell_type": "code",
      "source": [
        "#nested if statements\n",
        "temperature = 32\n",
        "humidity = 80\n",
        "if temperature > 30:\n",
        "  if humidity > 70:\n",
        "    print(\"Hot and humid\")\n",
        "  else:\n",
        "    print(\"Hot but dry\")\n",
        "else:\n",
        "  if humidity > 70:\n",
        "    print(\"Cool but humid\")\n",
        "  else:\n",
        "    print(\"Cool and dry\")"
      ],
      "metadata": {
        "colab": {
          "base_uri": "https://localhost:8080/"
        },
        "id": "Cfc0dV2WTnt0",
        "outputId": "ff7ebda2-a76b-4d21-b2c2-41032570e070"
      },
      "execution_count": null,
      "outputs": [
        {
          "output_type": "stream",
          "name": "stdout",
          "text": [
            "Hot and humid\n"
          ]
        }
      ]
    },
    {
      "cell_type": "code",
      "source": [
        "# More efficient version using logical operators\n",
        "if temperature > 30 and humidity > 70:\n",
        "  print(\"Hot and humid\")\n",
        "elif temperature > 30 and humidity <= 70:\n",
        "  print(\"Hot but dry\")\n",
        "elif temperature <= 30 and humidity > 70:\n",
        "  print(\"Cool but humid\")\n",
        "else:\n",
        "  print(\"Cool and dry\")\n",
        "# Other logical operators\n",
        "has_id = True\n",
        "is_holiday = False\n",
        "if has_id or is_holiday:\n",
        "  print(\"Can enter\")  # Prints this\n",
        "if not is_holiday:\n",
        "  print(\"Work day\")   # Prints this"
      ],
      "metadata": {
        "colab": {
          "base_uri": "https://localhost:8080/"
        },
        "id": "trEDJPqLVDwn",
        "outputId": "d16a91af-6204-4222-90cb-5f3071213bb9"
      },
      "execution_count": null,
      "outputs": [
        {
          "output_type": "stream",
          "name": "stdout",
          "text": [
            "Hot and humid\n",
            "Can enter\n",
            "Work day\n"
          ]
        }
      ]
    },
    {
      "cell_type": "markdown",
      "source": [
        "## **Loop**"
      ],
      "metadata": {
        "id": "ntNY_yqXWxci"
      }
    },
    {
      "cell_type": "markdown",
      "source": [
        "#loop 2.11"
      ],
      "metadata": {
        "id": "DLH-3fJBM0YZ"
      }
    },
    {
      "cell_type": "code",
      "source": [
        "\n",
        "for i in range(10):\n",
        "  print(i)\n",
        "print()\n",
        "print()\n",
        "init = 0\n",
        "while init < 10:\n",
        "  print(init)\n",
        "  init += 1"
      ],
      "metadata": {
        "colab": {
          "base_uri": "https://localhost:8080/"
        },
        "id": "VnDkg4RcDT4w",
        "outputId": "89aa9694-7134-49fe-ca45-fd2a5e629537"
      },
      "execution_count": 54,
      "outputs": [
        {
          "output_type": "stream",
          "name": "stdout",
          "text": [
            "0\n",
            "1\n",
            "2\n",
            "3\n",
            "4\n",
            "5\n",
            "6\n",
            "7\n",
            "8\n",
            "9\n",
            "\n",
            "\n",
            "0\n",
            "1\n",
            "2\n",
            "3\n",
            "4\n",
            "5\n",
            "6\n",
            "7\n",
            "8\n",
            "9\n"
          ]
        }
      ]
    },
    {
      "cell_type": "code",
      "source": [
        "# Looping through a list\n",
        "fruits = [\"apple\", \"banana\", \"orange\"]\n",
        "for fruit in fruits:\n",
        "  print(f\"I like {fruit}\")\n",
        "print(\"\\n\")\n",
        "# Using range() function\n",
        "for i in range(5):  # 0 to 4\n",
        "  print(i)\n",
        "print(\"\\n\")\n",
        "for i in range(2,10):  # 2 to 8\n",
        "  print(i)"
      ],
      "metadata": {
        "colab": {
          "base_uri": "https://localhost:8080/"
        },
        "id": "C1p-4uQLW0ph",
        "outputId": "64d19d01-5d20-4953-d6b6-6c3419dbe411"
      },
      "execution_count": null,
      "outputs": [
        {
          "output_type": "stream",
          "name": "stdout",
          "text": [
            "I like apple\n",
            "I like banana\n",
            "I like orange\n",
            "\n",
            "\n",
            "0\n",
            "1\n",
            "2\n",
            "3\n",
            "4\n",
            "\n",
            "\n",
            "2\n",
            "3\n",
            "4\n",
            "5\n",
            "6\n",
            "7\n",
            "8\n",
            "9\n"
          ]
        }
      ]
    },
    {
      "cell_type": "code",
      "source": [
        "# Continue until a condition is met\n",
        "count = 0\n",
        "while count < 5:\n",
        "  print(count)\n",
        "  count += 1  # Don't forget to increment!\n",
        "print(\"\\n\")\n",
        "# With a break statement\n",
        "number = 0\n",
        "while True:\n",
        "  number += 1\n",
        "  if number > 10:\n",
        "    break\n",
        "  print(number)"
      ],
      "metadata": {
        "colab": {
          "base_uri": "https://localhost:8080/"
        },
        "id": "JZbWP8VoZJHN",
        "outputId": "3c88713a-f9fa-46be-bc71-42f5282a71f3"
      },
      "execution_count": null,
      "outputs": [
        {
          "output_type": "stream",
          "name": "stdout",
          "text": [
            "0\n",
            "1\n",
            "2\n",
            "3\n",
            "4\n",
            "\n",
            "\n",
            "1\n",
            "2\n",
            "3\n",
            "4\n",
            "5\n",
            "6\n",
            "7\n",
            "8\n",
            "9\n",
            "10\n"
          ]
        }
      ]
    },
    {
      "cell_type": "code",
      "source": [
        "# Continue statement - skip to next iteration\n",
        "for num in range(10):\n",
        "  if num % 2 == 0:\n",
        "    continue  # Skip even numbers\n",
        "  print(num)    # Prints only odd numbers\n",
        "print(\"\\n\")\n",
        "# Break statement - exit the loop\n",
        "for num in range(100):\n",
        "  if num > 10:\n",
        "    break\n",
        "  print(num)\n",
        "# Stop when we reach 11\n",
        "# Prints 0 through 10"
      ],
      "metadata": {
        "colab": {
          "base_uri": "https://localhost:8080/"
        },
        "id": "D9UOu3iFaSoK",
        "outputId": "d573acd5-3fe1-4951-d9a4-83dd7edf8273"
      },
      "execution_count": null,
      "outputs": [
        {
          "output_type": "stream",
          "name": "stdout",
          "text": [
            "1\n",
            "3\n",
            "5\n",
            "7\n",
            "9\n",
            "\n",
            "\n",
            "0\n",
            "1\n",
            "2\n",
            "3\n",
            "4\n",
            "5\n",
            "6\n",
            "7\n",
            "8\n",
            "9\n",
            "10\n"
          ]
        }
      ]
    },
    {
      "cell_type": "markdown",
      "source": [
        "#2.12 Number pyramid using nested loop"
      ],
      "metadata": {
        "id": "8JMBzmF_M5-U"
      }
    },
    {
      "cell_type": "code",
      "source": [
        "\n",
        "rows = 5\n",
        "for i in range(1, rows + 1):\n",
        "\n",
        "    print(\" \" * (rows - i), end=\"\")\n",
        "\n",
        "\n",
        "    for j in range(i):\n",
        "        print(f\"{i} \", end=\"\")\n",
        "\n",
        "    print()\n"
      ],
      "metadata": {
        "colab": {
          "base_uri": "https://localhost:8080/"
        },
        "id": "bHSdoUo6E6Pi",
        "outputId": "560d1fba-2723-40f2-f000-0c7e05189c37"
      },
      "execution_count": 55,
      "outputs": [
        {
          "output_type": "stream",
          "name": "stdout",
          "text": [
            "    1 \n",
            "   2 2 \n",
            "  3 3 3 \n",
            " 4 4 4 4 \n",
            "5 5 5 5 5 \n"
          ]
        }
      ]
    },
    {
      "cell_type": "code",
      "source": [
        "# Multiplication table (1-5)\n",
        "for i in range(1, 6):\n",
        "  for j in range(1, 6):\n",
        "    product = i * j\n",
        "    print(f\"{i} × {j} = {product}\")\n",
        "  print(\"-----\")  # Separator between tables\n"
      ],
      "metadata": {
        "colab": {
          "base_uri": "https://localhost:8080/"
        },
        "id": "sLH-qPrObJ1e",
        "outputId": "d1fddaaf-83c2-4407-fb9b-6394d91ef2b5"
      },
      "execution_count": 34,
      "outputs": [
        {
          "output_type": "stream",
          "name": "stdout",
          "text": [
            "1 × 1 = 1\n",
            "1 × 2 = 2\n",
            "1 × 3 = 3\n",
            "1 × 4 = 4\n",
            "1 × 5 = 5\n",
            "-----\n",
            "2 × 1 = 2\n",
            "2 × 2 = 4\n",
            "2 × 3 = 6\n",
            "2 × 4 = 8\n",
            "2 × 5 = 10\n",
            "-----\n",
            "3 × 1 = 3\n",
            "3 × 2 = 6\n",
            "3 × 3 = 9\n",
            "3 × 4 = 12\n",
            "3 × 5 = 15\n",
            "-----\n",
            "4 × 1 = 4\n",
            "4 × 2 = 8\n",
            "4 × 3 = 12\n",
            "4 × 4 = 16\n",
            "4 × 5 = 20\n",
            "-----\n",
            "5 × 1 = 5\n",
            "5 × 2 = 10\n",
            "5 × 3 = 15\n",
            "5 × 4 = 20\n",
            "5 × 5 = 25\n",
            "-----\n"
          ]
        }
      ]
    },
    {
      "cell_type": "code",
      "source": [
        "#pattern printing\n",
        "for i in range(1, 6):\n",
        " print(\"*\" * i)"
      ],
      "metadata": {
        "colab": {
          "base_uri": "https://localhost:8080/"
        },
        "id": "AwbjxmG-b5j-",
        "outputId": "114a2a71-eeec-4d87-b3ad-f72aebe6221a"
      },
      "execution_count": null,
      "outputs": [
        {
          "output_type": "stream",
          "name": "stdout",
          "text": [
            "*\n",
            "**\n",
            "***\n",
            "****\n",
            "*****\n"
          ]
        }
      ]
    },
    {
      "cell_type": "markdown",
      "source": [
        "## **Function**"
      ],
      "metadata": {
        "id": "wEIrckHKd_oY"
      }
    },
    {
      "cell_type": "code",
      "source": [
        "# Defining a simple function\n",
        "def greet():\n",
        "  print(\"Hello! Welcome to Python programming.\")\n",
        "# Calling the function\n",
        "greet()\n",
        "# Function with parameters\n",
        "def greet_person(name):\n",
        "  print(f\"Hello, {name}! How are you today?\")\n",
        "greet_person(\"Ali Kaisar Saiful\")  # Hello, Tahmid! How are you today?\n",
        "# Function with return value\n",
        "def add_numbers(a, b):\n",
        "  sum = a + b\n",
        "  return sum\n",
        "result = add_numbers(5, 3)\n",
        "print(f\"The sum is {result}\")  # The sum is 8"
      ],
      "metadata": {
        "colab": {
          "base_uri": "https://localhost:8080/"
        },
        "id": "iyBrlNUBeDAO",
        "outputId": "b727069f-3f95-42e1-f6b2-9642baaf7499"
      },
      "execution_count": 1,
      "outputs": [
        {
          "output_type": "stream",
          "name": "stdout",
          "text": [
            "Hello! Welcome to Python programming.\n",
            "Hello, Ali Kaisar Saiful! How are you today?\n",
            "The sum is 8\n"
          ]
        }
      ]
    },
    {
      "cell_type": "code",
      "source": [
        "def greet(name, message=\"Good morning\"):\n",
        "  print(f\"{message}, {name}!\")\n",
        "greet(\"ALi Kaisar Saiful\")  # Good morning, Nadia!\n",
        "greet(\"Abdur Rahman\", \"Hello\")  # Hello, Karim!"
      ],
      "metadata": {
        "colab": {
          "base_uri": "https://localhost:8080/"
        },
        "id": "c0mGQz3CekQ_",
        "outputId": "44ce5cd9-7fcd-4a25-8855-710e5c4babe5"
      },
      "execution_count": 36,
      "outputs": [
        {
          "output_type": "stream",
          "name": "stdout",
          "text": [
            "Good morning, ALi Kaisar Saiful!\n",
            "Hello, Abdur Rahman!\n"
          ]
        }
      ]
    },
    {
      "cell_type": "code",
      "source": [
        "def describe_person(name, age, city):\n",
        "  print(f\"{name} is {age} years old from {city}\")\n",
        "# Order doesn't matter with keyword args\n",
        "describe_person(city=\"Chittagong\", name=\"ALi Kaisar Saiful\", age=20)"
      ],
      "metadata": {
        "colab": {
          "base_uri": "https://localhost:8080/"
        },
        "id": "0pBvtZWIey-s",
        "outputId": "b8b18a2d-10d1-4407-d096-0b677175e572"
      },
      "execution_count": 37,
      "outputs": [
        {
          "output_type": "stream",
          "name": "stdout",
          "text": [
            "ALi Kaisar Saiful is 20 years old from Chittagong\n"
          ]
        }
      ]
    },
    {
      "cell_type": "code",
      "source": [
        "def calculate_stats(numbers):\n",
        "  total = sum(numbers)\n",
        "  average = total / len(numbers)\n",
        "  maximum = max(numbers)\n",
        "  minimum = min(numbers)\n",
        "  return total, average, maximum, minimum\n",
        "stats = calculate_stats([5, 10, 15, 20])\n",
        "print(stats)  # (50, 12.5, 20, 5)"
      ],
      "metadata": {
        "colab": {
          "base_uri": "https://localhost:8080/"
        },
        "id": "p32c4GBFfElM",
        "outputId": "86360a91-dd27-41b2-99fc-c78c126b8dd0"
      },
      "execution_count": null,
      "outputs": [
        {
          "output_type": "stream",
          "name": "stdout",
          "text": [
            "(50, 12.5, 20, 5)\n"
          ]
        }
      ]
    },
    {
      "cell_type": "markdown",
      "source": [
        "#2.13 Celsius to Farenheit using a function"
      ],
      "metadata": {
        "id": "qy4xWmdMNGZl"
      }
    },
    {
      "cell_type": "code",
      "source": [
        "\n",
        "def cel_to_fr(celsius):\n",
        "  farenheit = (celsius * 9/5) + 32\n",
        "  print(f\"{celsius} is equal to {farenheit}\")\n",
        "\n",
        "cel_to_fr(37)"
      ],
      "metadata": {
        "colab": {
          "base_uri": "https://localhost:8080/"
        },
        "id": "8-ShxxHtHzFg",
        "outputId": "ed3a6d70-3e40-4ec9-c3f3-e5b74d40ff46"
      },
      "execution_count": 56,
      "outputs": [
        {
          "output_type": "stream",
          "name": "stdout",
          "text": [
            "37 is equal to 98.6\n"
          ]
        }
      ]
    },
    {
      "cell_type": "markdown",
      "source": [
        "#2.14 A function that calculates the area of a ractangle"
      ],
      "metadata": {
        "id": "SwMKxF6SNJ-q"
      }
    },
    {
      "cell_type": "code",
      "source": [
        "\n",
        "def rarea(length, width):\n",
        "  area = length * width\n",
        "  print(f\"The area of the rectangle is {area}\")\n",
        "rarea(10, 5)"
      ],
      "metadata": {
        "colab": {
          "base_uri": "https://localhost:8080/"
        },
        "id": "PgT3cgm0JZ2D",
        "outputId": "ceef48b4-98c9-470e-c2eb-ce041692d93b"
      },
      "execution_count": 57,
      "outputs": [
        {
          "output_type": "stream",
          "name": "stdout",
          "text": [
            "The area of the rectangle is 50\n"
          ]
        }
      ]
    },
    {
      "cell_type": "code",
      "source": [
        "total = 0  # Global variable\n",
        "\n",
        "def add_to_total(value):\n",
        "    global total  # Access global variable\n",
        "    total += value\n",
        "    return total\n",
        "\n",
        "print(add_to_total(5))  # 5\n",
        "print(add_to_total(10))  # 15"
      ],
      "metadata": {
        "colab": {
          "base_uri": "https://localhost:8080/"
        },
        "id": "vlXi6Mz7f5Wg",
        "outputId": "973df3f1-f276-47cb-eca1-bf48612b7563"
      },
      "execution_count": null,
      "outputs": [
        {
          "output_type": "stream",
          "name": "stdout",
          "text": [
            "5\n",
            "15\n"
          ]
        }
      ]
    },
    {
      "cell_type": "code",
      "source": [
        "# Math module\n",
        "import math\n",
        "print(math.pi)  # 3.141592653589793\n",
        "print(math.sqrt(16))  # 4.0\n",
        "# Random module\n",
        "import random\n",
        "print(random.randint(1, 10))  # Random number\n",
        "print(random.choice([\"apple\", \"banana\", \"orange\"]))\n",
        " # Datetime module\n",
        "import datetime\n",
        "current_date = datetime.datetime.now()\n",
        "print(current_date)"
      ],
      "metadata": {
        "colab": {
          "base_uri": "https://localhost:8080/"
        },
        "id": "y3zP98r_gqdm",
        "outputId": "f4d36454-4e25-4fe0-abac-ae187ad78e51"
      },
      "execution_count": null,
      "outputs": [
        {
          "output_type": "stream",
          "name": "stdout",
          "text": [
            "3.141592653589793\n",
            "4.0\n",
            "9\n",
            "apple\n",
            "2025-08-15 06:55:34.862773\n"
          ]
        }
      ]
    },
    {
      "cell_type": "markdown",
      "source": [
        "#1. creating a module mymath.py"
      ],
      "metadata": {
        "id": "h0fDSXa4NQmc"
      }
    },
    {
      "cell_type": "code",
      "source": [
        "\n",
        "%%writefile mymath.py\n",
        "def add(a, b):\n",
        "  return a + b\n",
        "def subtract(a, b):\n",
        "  return a - b\n",
        "PI = 3.14159"
      ],
      "metadata": {
        "colab": {
          "base_uri": "https://localhost:8080/"
        },
        "id": "multwf5ghBOu",
        "outputId": "b0750fda-5ec1-4ce2-9c32-b58a573ce5e4"
      },
      "execution_count": 58,
      "outputs": [
        {
          "output_type": "stream",
          "name": "stdout",
          "text": [
            "Overwriting mymath.py\n"
          ]
        }
      ]
    },
    {
      "cell_type": "markdown",
      "source": [
        "#2. using the module created before:"
      ],
      "metadata": {
        "id": "FjqOEu47NUTV"
      }
    },
    {
      "cell_type": "code",
      "source": [
        "\n",
        "import mymath\n",
        "print(mymath.add(5, 3))      # 8\n",
        "print(mymath.subtract(10, 4)) # 6\n",
        "print(mymath.PI)             # 3.14159"
      ],
      "metadata": {
        "colab": {
          "base_uri": "https://localhost:8080/"
        },
        "id": "w2bom35dhMUT",
        "outputId": "05555801-108a-4d95-c5a4-d69667744a7e"
      },
      "execution_count": 59,
      "outputs": [
        {
          "output_type": "stream",
          "name": "stdout",
          "text": [
            "8\n",
            "6\n",
            "3.14159\n"
          ]
        }
      ]
    },
    {
      "cell_type": "code",
      "source": [],
      "metadata": {
        "id": "L1Gg2_weKNPx"
      },
      "execution_count": null,
      "outputs": []
    }
  ]
}